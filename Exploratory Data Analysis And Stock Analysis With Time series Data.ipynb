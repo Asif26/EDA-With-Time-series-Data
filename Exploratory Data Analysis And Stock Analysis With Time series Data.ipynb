{
 "cells": [
  {
   "cell_type": "code",
   "execution_count": 1,
   "id": "feabf5df",
   "metadata": {},
   "outputs": [
    {
     "name": "stdout",
     "output_type": "stream",
     "text": [
      "Collecting pandas-datareader\n",
      "  Downloading pandas_datareader-0.10.0-py3-none-any.whl (109 kB)\n",
      "\u001b[K     |████████████████████████████████| 109 kB 305 kB/s eta 0:00:01\n",
      "\u001b[?25hRequirement already satisfied: pandas>=0.23 in /home/asifbashir/anaconda3/lib/python3.9/site-packages (from pandas-datareader) (1.3.4)\n",
      "Requirement already satisfied: lxml in /home/asifbashir/anaconda3/lib/python3.9/site-packages (from pandas-datareader) (4.6.3)\n",
      "Requirement already satisfied: requests>=2.19.0 in /home/asifbashir/anaconda3/lib/python3.9/site-packages (from pandas-datareader) (2.26.0)\n",
      "Requirement already satisfied: python-dateutil>=2.7.3 in /home/asifbashir/anaconda3/lib/python3.9/site-packages (from pandas>=0.23->pandas-datareader) (2.8.2)\n",
      "Requirement already satisfied: pytz>=2017.3 in /home/asifbashir/anaconda3/lib/python3.9/site-packages (from pandas>=0.23->pandas-datareader) (2021.3)\n",
      "Requirement already satisfied: numpy>=1.17.3 in /home/asifbashir/anaconda3/lib/python3.9/site-packages (from pandas>=0.23->pandas-datareader) (1.22.2)\n",
      "Requirement already satisfied: six>=1.5 in /home/asifbashir/anaconda3/lib/python3.9/site-packages (from python-dateutil>=2.7.3->pandas>=0.23->pandas-datareader) (1.16.0)\n",
      "Requirement already satisfied: charset-normalizer~=2.0.0 in /home/asifbashir/anaconda3/lib/python3.9/site-packages (from requests>=2.19.0->pandas-datareader) (2.0.4)\n",
      "Requirement already satisfied: urllib3<1.27,>=1.21.1 in /home/asifbashir/anaconda3/lib/python3.9/site-packages (from requests>=2.19.0->pandas-datareader) (1.26.7)\n",
      "Requirement already satisfied: idna<4,>=2.5 in /home/asifbashir/anaconda3/lib/python3.9/site-packages (from requests>=2.19.0->pandas-datareader) (3.2)\n",
      "Requirement already satisfied: certifi>=2017.4.17 in /home/asifbashir/anaconda3/lib/python3.9/site-packages (from requests>=2.19.0->pandas-datareader) (2021.10.8)\n",
      "Installing collected packages: pandas-datareader\n",
      "Successfully installed pandas-datareader-0.10.0\n"
     ]
    }
   ],
   "source": [
    "# install pandas Reader\n",
    "!pip install pandas-datareader"
   ]
  },
  {
   "cell_type": "code",
   "execution_count": 3,
   "id": "d382235a",
   "metadata": {},
   "outputs": [],
   "source": [
    "import pandas_datareader as pdr\n",
    "import pandas as pd \n",
    "import datetime as datetime"
   ]
  },
  {
   "cell_type": "code",
   "execution_count": 6,
   "id": "1abaf0dd",
   "metadata": {},
   "outputs": [],
   "source": [
    "df_tesla=pdr.get_data_yahoo('TSLA')"
   ]
  },
  {
   "cell_type": "code",
   "execution_count": 7,
   "id": "55689ccc",
   "metadata": {},
   "outputs": [
    {
     "data": {
      "text/html": [
       "<div>\n",
       "<style scoped>\n",
       "    .dataframe tbody tr th:only-of-type {\n",
       "        vertical-align: middle;\n",
       "    }\n",
       "\n",
       "    .dataframe tbody tr th {\n",
       "        vertical-align: top;\n",
       "    }\n",
       "\n",
       "    .dataframe thead th {\n",
       "        text-align: right;\n",
       "    }\n",
       "</style>\n",
       "<table border=\"1\" class=\"dataframe\">\n",
       "  <thead>\n",
       "    <tr style=\"text-align: right;\">\n",
       "      <th></th>\n",
       "      <th>High</th>\n",
       "      <th>Low</th>\n",
       "      <th>Open</th>\n",
       "      <th>Close</th>\n",
       "      <th>Volume</th>\n",
       "      <th>Adj Close</th>\n",
       "    </tr>\n",
       "    <tr>\n",
       "      <th>Date</th>\n",
       "      <th></th>\n",
       "      <th></th>\n",
       "      <th></th>\n",
       "      <th></th>\n",
       "      <th></th>\n",
       "      <th></th>\n",
       "    </tr>\n",
       "  </thead>\n",
       "  <tbody>\n",
       "    <tr>\n",
       "      <th>2017-02-27</th>\n",
       "      <td>49.672001</td>\n",
       "      <td>48.402000</td>\n",
       "      <td>49.633999</td>\n",
       "      <td>49.245998</td>\n",
       "      <td>57304000.0</td>\n",
       "      <td>49.245998</td>\n",
       "    </tr>\n",
       "    <tr>\n",
       "      <th>2017-02-28</th>\n",
       "      <td>50.200001</td>\n",
       "      <td>48.779999</td>\n",
       "      <td>48.838001</td>\n",
       "      <td>49.998001</td>\n",
       "      <td>30390500.0</td>\n",
       "      <td>49.998001</td>\n",
       "    </tr>\n",
       "    <tr>\n",
       "      <th>2017-03-01</th>\n",
       "      <td>50.970001</td>\n",
       "      <td>49.821999</td>\n",
       "      <td>50.835999</td>\n",
       "      <td>50.004002</td>\n",
       "      <td>24047500.0</td>\n",
       "      <td>50.004002</td>\n",
       "    </tr>\n",
       "    <tr>\n",
       "      <th>2017-03-02</th>\n",
       "      <td>50.655998</td>\n",
       "      <td>49.653999</td>\n",
       "      <td>49.942001</td>\n",
       "      <td>50.096001</td>\n",
       "      <td>16759000.0</td>\n",
       "      <td>50.096001</td>\n",
       "    </tr>\n",
       "    <tr>\n",
       "      <th>2017-03-03</th>\n",
       "      <td>50.380001</td>\n",
       "      <td>49.799999</td>\n",
       "      <td>50.147999</td>\n",
       "      <td>50.313999</td>\n",
       "      <td>14597000.0</td>\n",
       "      <td>50.313999</td>\n",
       "    </tr>\n",
       "    <tr>\n",
       "      <th>...</th>\n",
       "      <td>...</td>\n",
       "      <td>...</td>\n",
       "      <td>...</td>\n",
       "      <td>...</td>\n",
       "      <td>...</td>\n",
       "      <td>...</td>\n",
       "    </tr>\n",
       "    <tr>\n",
       "      <th>2022-02-18</th>\n",
       "      <td>886.869995</td>\n",
       "      <td>837.609985</td>\n",
       "      <td>886.000000</td>\n",
       "      <td>856.979980</td>\n",
       "      <td>22710500.0</td>\n",
       "      <td>856.979980</td>\n",
       "    </tr>\n",
       "    <tr>\n",
       "      <th>2022-02-22</th>\n",
       "      <td>856.729980</td>\n",
       "      <td>801.099976</td>\n",
       "      <td>834.130005</td>\n",
       "      <td>821.530029</td>\n",
       "      <td>27762700.0</td>\n",
       "      <td>821.530029</td>\n",
       "    </tr>\n",
       "    <tr>\n",
       "      <th>2022-02-23</th>\n",
       "      <td>835.299988</td>\n",
       "      <td>760.559998</td>\n",
       "      <td>830.429993</td>\n",
       "      <td>764.039978</td>\n",
       "      <td>31752300.0</td>\n",
       "      <td>764.039978</td>\n",
       "    </tr>\n",
       "    <tr>\n",
       "      <th>2022-02-24</th>\n",
       "      <td>802.479980</td>\n",
       "      <td>700.000000</td>\n",
       "      <td>700.390015</td>\n",
       "      <td>800.770020</td>\n",
       "      <td>45107400.0</td>\n",
       "      <td>800.770020</td>\n",
       "    </tr>\n",
       "    <tr>\n",
       "      <th>2022-02-25</th>\n",
       "      <td>819.500000</td>\n",
       "      <td>782.400024</td>\n",
       "      <td>809.229980</td>\n",
       "      <td>809.869995</td>\n",
       "      <td>25309500.0</td>\n",
       "      <td>809.869995</td>\n",
       "    </tr>\n",
       "  </tbody>\n",
       "</table>\n",
       "<p>1260 rows × 6 columns</p>\n",
       "</div>"
      ],
      "text/plain": [
       "                  High         Low        Open       Close      Volume  \\\n",
       "Date                                                                     \n",
       "2017-02-27   49.672001   48.402000   49.633999   49.245998  57304000.0   \n",
       "2017-02-28   50.200001   48.779999   48.838001   49.998001  30390500.0   \n",
       "2017-03-01   50.970001   49.821999   50.835999   50.004002  24047500.0   \n",
       "2017-03-02   50.655998   49.653999   49.942001   50.096001  16759000.0   \n",
       "2017-03-03   50.380001   49.799999   50.147999   50.313999  14597000.0   \n",
       "...                ...         ...         ...         ...         ...   \n",
       "2022-02-18  886.869995  837.609985  886.000000  856.979980  22710500.0   \n",
       "2022-02-22  856.729980  801.099976  834.130005  821.530029  27762700.0   \n",
       "2022-02-23  835.299988  760.559998  830.429993  764.039978  31752300.0   \n",
       "2022-02-24  802.479980  700.000000  700.390015  800.770020  45107400.0   \n",
       "2022-02-25  819.500000  782.400024  809.229980  809.869995  25309500.0   \n",
       "\n",
       "             Adj Close  \n",
       "Date                    \n",
       "2017-02-27   49.245998  \n",
       "2017-02-28   49.998001  \n",
       "2017-03-01   50.004002  \n",
       "2017-03-02   50.096001  \n",
       "2017-03-03   50.313999  \n",
       "...                ...  \n",
       "2022-02-18  856.979980  \n",
       "2022-02-22  821.530029  \n",
       "2022-02-23  764.039978  \n",
       "2022-02-24  800.770020  \n",
       "2022-02-25  809.869995  \n",
       "\n",
       "[1260 rows x 6 columns]"
      ]
     },
     "execution_count": 7,
     "metadata": {},
     "output_type": "execute_result"
    }
   ],
   "source": [
    "df_tesla"
   ]
  },
  {
   "cell_type": "code",
   "execution_count": 8,
   "id": "be6699f1",
   "metadata": {},
   "outputs": [
    {
     "data": {
      "text/plain": [
       "pandas.core.frame.DataFrame"
      ]
     },
     "execution_count": 8,
     "metadata": {},
     "output_type": "execute_result"
    }
   ],
   "source": [
    "type(df_tesla)"
   ]
  },
  {
   "cell_type": "code",
   "execution_count": 9,
   "id": "075037a7",
   "metadata": {},
   "outputs": [
    {
     "data": {
      "text/html": [
       "<div>\n",
       "<style scoped>\n",
       "    .dataframe tbody tr th:only-of-type {\n",
       "        vertical-align: middle;\n",
       "    }\n",
       "\n",
       "    .dataframe tbody tr th {\n",
       "        vertical-align: top;\n",
       "    }\n",
       "\n",
       "    .dataframe thead th {\n",
       "        text-align: right;\n",
       "    }\n",
       "</style>\n",
       "<table border=\"1\" class=\"dataframe\">\n",
       "  <thead>\n",
       "    <tr style=\"text-align: right;\">\n",
       "      <th></th>\n",
       "      <th>High</th>\n",
       "      <th>Low</th>\n",
       "      <th>Open</th>\n",
       "      <th>Close</th>\n",
       "      <th>Volume</th>\n",
       "      <th>Adj Close</th>\n",
       "    </tr>\n",
       "    <tr>\n",
       "      <th>Date</th>\n",
       "      <th></th>\n",
       "      <th></th>\n",
       "      <th></th>\n",
       "      <th></th>\n",
       "      <th></th>\n",
       "      <th></th>\n",
       "    </tr>\n",
       "  </thead>\n",
       "  <tbody>\n",
       "    <tr>\n",
       "      <th>2017-02-27</th>\n",
       "      <td>49.672001</td>\n",
       "      <td>48.402000</td>\n",
       "      <td>49.633999</td>\n",
       "      <td>49.245998</td>\n",
       "      <td>57304000.0</td>\n",
       "      <td>49.245998</td>\n",
       "    </tr>\n",
       "    <tr>\n",
       "      <th>2017-02-28</th>\n",
       "      <td>50.200001</td>\n",
       "      <td>48.779999</td>\n",
       "      <td>48.838001</td>\n",
       "      <td>49.998001</td>\n",
       "      <td>30390500.0</td>\n",
       "      <td>49.998001</td>\n",
       "    </tr>\n",
       "    <tr>\n",
       "      <th>2017-03-01</th>\n",
       "      <td>50.970001</td>\n",
       "      <td>49.821999</td>\n",
       "      <td>50.835999</td>\n",
       "      <td>50.004002</td>\n",
       "      <td>24047500.0</td>\n",
       "      <td>50.004002</td>\n",
       "    </tr>\n",
       "    <tr>\n",
       "      <th>2017-03-02</th>\n",
       "      <td>50.655998</td>\n",
       "      <td>49.653999</td>\n",
       "      <td>49.942001</td>\n",
       "      <td>50.096001</td>\n",
       "      <td>16759000.0</td>\n",
       "      <td>50.096001</td>\n",
       "    </tr>\n",
       "    <tr>\n",
       "      <th>2017-03-03</th>\n",
       "      <td>50.380001</td>\n",
       "      <td>49.799999</td>\n",
       "      <td>50.147999</td>\n",
       "      <td>50.313999</td>\n",
       "      <td>14597000.0</td>\n",
       "      <td>50.313999</td>\n",
       "    </tr>\n",
       "  </tbody>\n",
       "</table>\n",
       "</div>"
      ],
      "text/plain": [
       "                 High        Low       Open      Close      Volume  Adj Close\n",
       "Date                                                                         \n",
       "2017-02-27  49.672001  48.402000  49.633999  49.245998  57304000.0  49.245998\n",
       "2017-02-28  50.200001  48.779999  48.838001  49.998001  30390500.0  49.998001\n",
       "2017-03-01  50.970001  49.821999  50.835999  50.004002  24047500.0  50.004002\n",
       "2017-03-02  50.655998  49.653999  49.942001  50.096001  16759000.0  50.096001\n",
       "2017-03-03  50.380001  49.799999  50.147999  50.313999  14597000.0  50.313999"
      ]
     },
     "execution_count": 9,
     "metadata": {},
     "output_type": "execute_result"
    }
   ],
   "source": [
    "df_tesla.head()"
   ]
  },
  {
   "cell_type": "code",
   "execution_count": 10,
   "id": "10dce3f7",
   "metadata": {},
   "outputs": [
    {
     "data": {
      "text/html": [
       "<div>\n",
       "<style scoped>\n",
       "    .dataframe tbody tr th:only-of-type {\n",
       "        vertical-align: middle;\n",
       "    }\n",
       "\n",
       "    .dataframe tbody tr th {\n",
       "        vertical-align: top;\n",
       "    }\n",
       "\n",
       "    .dataframe thead th {\n",
       "        text-align: right;\n",
       "    }\n",
       "</style>\n",
       "<table border=\"1\" class=\"dataframe\">\n",
       "  <thead>\n",
       "    <tr style=\"text-align: right;\">\n",
       "      <th></th>\n",
       "      <th>High</th>\n",
       "      <th>Low</th>\n",
       "      <th>Open</th>\n",
       "      <th>Close</th>\n",
       "      <th>Volume</th>\n",
       "      <th>Adj Close</th>\n",
       "    </tr>\n",
       "    <tr>\n",
       "      <th>Date</th>\n",
       "      <th></th>\n",
       "      <th></th>\n",
       "      <th></th>\n",
       "      <th></th>\n",
       "      <th></th>\n",
       "      <th></th>\n",
       "    </tr>\n",
       "  </thead>\n",
       "  <tbody>\n",
       "    <tr>\n",
       "      <th>2022-02-18</th>\n",
       "      <td>886.869995</td>\n",
       "      <td>837.609985</td>\n",
       "      <td>886.000000</td>\n",
       "      <td>856.979980</td>\n",
       "      <td>22710500.0</td>\n",
       "      <td>856.979980</td>\n",
       "    </tr>\n",
       "    <tr>\n",
       "      <th>2022-02-22</th>\n",
       "      <td>856.729980</td>\n",
       "      <td>801.099976</td>\n",
       "      <td>834.130005</td>\n",
       "      <td>821.530029</td>\n",
       "      <td>27762700.0</td>\n",
       "      <td>821.530029</td>\n",
       "    </tr>\n",
       "    <tr>\n",
       "      <th>2022-02-23</th>\n",
       "      <td>835.299988</td>\n",
       "      <td>760.559998</td>\n",
       "      <td>830.429993</td>\n",
       "      <td>764.039978</td>\n",
       "      <td>31752300.0</td>\n",
       "      <td>764.039978</td>\n",
       "    </tr>\n",
       "    <tr>\n",
       "      <th>2022-02-24</th>\n",
       "      <td>802.479980</td>\n",
       "      <td>700.000000</td>\n",
       "      <td>700.390015</td>\n",
       "      <td>800.770020</td>\n",
       "      <td>45107400.0</td>\n",
       "      <td>800.770020</td>\n",
       "    </tr>\n",
       "    <tr>\n",
       "      <th>2022-02-25</th>\n",
       "      <td>819.500000</td>\n",
       "      <td>782.400024</td>\n",
       "      <td>809.229980</td>\n",
       "      <td>809.869995</td>\n",
       "      <td>25309500.0</td>\n",
       "      <td>809.869995</td>\n",
       "    </tr>\n",
       "  </tbody>\n",
       "</table>\n",
       "</div>"
      ],
      "text/plain": [
       "                  High         Low        Open       Close      Volume  \\\n",
       "Date                                                                     \n",
       "2022-02-18  886.869995  837.609985  886.000000  856.979980  22710500.0   \n",
       "2022-02-22  856.729980  801.099976  834.130005  821.530029  27762700.0   \n",
       "2022-02-23  835.299988  760.559998  830.429993  764.039978  31752300.0   \n",
       "2022-02-24  802.479980  700.000000  700.390015  800.770020  45107400.0   \n",
       "2022-02-25  819.500000  782.400024  809.229980  809.869995  25309500.0   \n",
       "\n",
       "             Adj Close  \n",
       "Date                    \n",
       "2022-02-18  856.979980  \n",
       "2022-02-22  821.530029  \n",
       "2022-02-23  764.039978  \n",
       "2022-02-24  800.770020  \n",
       "2022-02-25  809.869995  "
      ]
     },
     "execution_count": 10,
     "metadata": {},
     "output_type": "execute_result"
    }
   ],
   "source": [
    "df_tesla.tail()"
   ]
  },
  {
   "cell_type": "code",
   "execution_count": 11,
   "id": "5d0074c9",
   "metadata": {},
   "outputs": [
    {
     "name": "stdout",
     "output_type": "stream",
     "text": [
      "<class 'pandas.core.frame.DataFrame'>\n",
      "DatetimeIndex: 1260 entries, 2017-02-27 to 2022-02-25\n",
      "Data columns (total 6 columns):\n",
      " #   Column     Non-Null Count  Dtype  \n",
      "---  ------     --------------  -----  \n",
      " 0   High       1260 non-null   float64\n",
      " 1   Low        1260 non-null   float64\n",
      " 2   Open       1260 non-null   float64\n",
      " 3   Close      1260 non-null   float64\n",
      " 4   Volume     1260 non-null   float64\n",
      " 5   Adj Close  1260 non-null   float64\n",
      "dtypes: float64(6)\n",
      "memory usage: 68.9 KB\n"
     ]
    }
   ],
   "source": [
    "df_tesla.info()"
   ]
  },
  {
   "cell_type": "code",
   "execution_count": 12,
   "id": "36320265",
   "metadata": {},
   "outputs": [
    {
     "data": {
      "text/plain": [
       "<AxesSubplot:xlabel='Date'>"
      ]
     },
     "execution_count": 12,
     "metadata": {},
     "output_type": "execute_result"
    },
    {
     "data": {
      "image/png": "[encoded data removed]",
      "text/plain": [
       "<Figure size 432x288 with 1 Axes>"
      ]
     },
     "metadata": {
      "needs_background": "light"
     },
     "output_type": "display_data"
    }
   ],
   "source": [
    "df_tesla.plot()"
   ]
  },
  {
   "cell_type": "code",
   "execution_count": 23,
   "id": "4f97a88a",
   "metadata": {},
   "outputs": [
    {
     "data": {
      "text/plain": [
       "<AxesSubplot:xlabel='Date'>"
      ]
     },
     "execution_count": 23,
     "metadata": {},
     "output_type": "execute_result"
    },
    {
     "data": {
      "image/png": "[encoded data removed]",
      "text/plain": [
       "<Figure size 864x288 with 1 Axes>"
      ]
     },
     "metadata": {
      "needs_background": "light"
     },
     "output_type": "display_data"
    }
   ],
   "source": [
    "#xlim and y ylim and color\n",
    "df_tesla[\"High\"].plot(xlim=[\"2020-01-01\",'2021-09-01'] ,ylim=[0,900],figsize=(12,4),ls=\"--\",c=\"green\")"
   ]
  },
  {
   "cell_type": "code",
   "execution_count": 25,
   "id": "d73ad418",
   "metadata": {},
   "outputs": [
    {
     "data": {
      "text/plain": [
       "DatetimeIndex(['2017-02-27', '2017-02-28', '2017-03-01', '2017-03-02',\n",
       "               '2017-03-03', '2017-03-06', '2017-03-07', '2017-03-08',\n",
       "               '2017-03-09', '2017-03-10',\n",
       "               ...\n",
       "               '2022-02-11', '2022-02-14', '2022-02-15', '2022-02-16',\n",
       "               '2022-02-17', '2022-02-18', '2022-02-22', '2022-02-23',\n",
       "               '2022-02-24', '2022-02-25'],\n",
       "              dtype='datetime64[ns]', name='Date', length=1260, freq=None)"
      ]
     },
     "execution_count": 25,
     "metadata": {},
     "output_type": "execute_result"
    }
   ],
   "source": [
    "df_tesla.index"
   ]
  },
  {
   "cell_type": "code",
   "execution_count": 28,
   "id": "7a908b42",
   "metadata": {},
   "outputs": [],
   "source": [
    "index =df_tesla.loc['2021-01-01':'2021-09-01'].index"
   ]
  },
  {
   "cell_type": "code",
   "execution_count": 30,
   "id": "06376c6f",
   "metadata": {},
   "outputs": [],
   "source": [
    "share_open=df_tesla.loc['2021-01-01':'2021-09-01'][\"Open\"]"
   ]
  },
  {
   "cell_type": "code",
   "execution_count": 31,
   "id": "76d020eb",
   "metadata": {},
   "outputs": [
    {
     "data": {
      "text/plain": [
       "Date\n",
       "2021-01-04    719.460022\n",
       "2021-01-05    723.659973\n",
       "2021-01-06    758.489990\n",
       "2021-01-07    777.630005\n",
       "2021-01-08    856.000000\n",
       "                 ...    \n",
       "2021-08-26    708.309998\n",
       "2021-08-27    705.000000\n",
       "2021-08-30    714.719971\n",
       "2021-08-31    733.000000\n",
       "2021-09-01    734.080017\n",
       "Name: Open, Length: 168, dtype: float64"
      ]
     },
     "execution_count": 31,
     "metadata": {},
     "output_type": "execute_result"
    }
   ],
   "source": [
    "share_open"
   ]
  },
  {
   "cell_type": "code",
   "execution_count": 32,
   "id": "c9d21f61",
   "metadata": {},
   "outputs": [],
   "source": [
    "import matplotlib.pyplot as plt\n",
    "%matplotlib inline"
   ]
  },
  {
   "cell_type": "code",
   "execution_count": 33,
   "id": "ca59606f",
   "metadata": {},
   "outputs": [
    {
     "data": {
      "text/plain": [
       "[<matplotlib.lines.Line2D at 0x7f26e2aab580>]"
      ]
     },
     "execution_count": 33,
     "metadata": {},
     "output_type": "execute_result"
    },
    {
     "data": {
      "image/png": "[encoded data removed]",
      "text/plain": [
       "<Figure size 432x288 with 1 Axes>"
      ]
     },
     "metadata": {
      "needs_background": "light"
     },
     "output_type": "display_data"
    }
   ],
   "source": [
    "figure,axis =plt.subplots()\n",
    "plt.tight_layout()\n",
    "figure.autofmt_xdate()\n",
    "axis.plot(index,share_open)"
   ]
  },
  {
   "cell_type": "code",
   "execution_count": 37,
   "id": "ccfc8d27",
   "metadata": {},
   "outputs": [],
   "source": [
    "## DATE Time INDEX\n",
    "df_tesla=df_tesla.reset_index()"
   ]
  },
  {
   "cell_type": "code",
   "execution_count": 38,
   "id": "fb0bc108",
   "metadata": {},
   "outputs": [
    {
     "name": "stdout",
     "output_type": "stream",
     "text": [
      "<class 'pandas.core.frame.DataFrame'>\n",
      "RangeIndex: 1260 entries, 0 to 1259\n",
      "Data columns (total 7 columns):\n",
      " #   Column     Non-Null Count  Dtype         \n",
      "---  ------     --------------  -----         \n",
      " 0   Date       1260 non-null   datetime64[ns]\n",
      " 1   High       1260 non-null   float64       \n",
      " 2   Low        1260 non-null   float64       \n",
      " 3   Open       1260 non-null   float64       \n",
      " 4   Close      1260 non-null   float64       \n",
      " 5   Volume     1260 non-null   float64       \n",
      " 6   Adj Close  1260 non-null   float64       \n",
      "dtypes: datetime64[ns](1), float64(6)\n",
      "memory usage: 69.0 KB\n"
     ]
    }
   ],
   "source": [
    "df_tesla.info()"
   ]
  },
  {
   "cell_type": "code",
   "execution_count": 39,
   "id": "0b3c2781",
   "metadata": {},
   "outputs": [
    {
     "data": {
      "text/plain": [
       "0      2017-02-27\n",
       "1      2017-02-28\n",
       "2      2017-03-01\n",
       "3      2017-03-02\n",
       "4      2017-03-03\n",
       "          ...    \n",
       "1255   2022-02-18\n",
       "1256   2022-02-22\n",
       "1257   2022-02-23\n",
       "1258   2022-02-24\n",
       "1259   2022-02-25\n",
       "Name: Date, Length: 1260, dtype: datetime64[ns]"
      ]
     },
     "execution_count": 39,
     "metadata": {},
     "output_type": "execute_result"
    }
   ],
   "source": [
    "pd.to_datetime(df_tesla['Date'])"
   ]
  },
  {
   "cell_type": "code",
   "execution_count": 40,
   "id": "d9a49e14",
   "metadata": {},
   "outputs": [],
   "source": [
    "df_tesla=df_tesla.set_index(\"Date\",drop=True)"
   ]
  },
  {
   "cell_type": "code",
   "execution_count": 41,
   "id": "fc63d31e",
   "metadata": {},
   "outputs": [
    {
     "data": {
      "text/html": [
       "<div>\n",
       "<style scoped>\n",
       "    .dataframe tbody tr th:only-of-type {\n",
       "        vertical-align: middle;\n",
       "    }\n",
       "\n",
       "    .dataframe tbody tr th {\n",
       "        vertical-align: top;\n",
       "    }\n",
       "\n",
       "    .dataframe thead th {\n",
       "        text-align: right;\n",
       "    }\n",
       "</style>\n",
       "<table border=\"1\" class=\"dataframe\">\n",
       "  <thead>\n",
       "    <tr style=\"text-align: right;\">\n",
       "      <th></th>\n",
       "      <th>High</th>\n",
       "      <th>Low</th>\n",
       "      <th>Open</th>\n",
       "      <th>Close</th>\n",
       "      <th>Volume</th>\n",
       "      <th>Adj Close</th>\n",
       "    </tr>\n",
       "    <tr>\n",
       "      <th>Date</th>\n",
       "      <th></th>\n",
       "      <th></th>\n",
       "      <th></th>\n",
       "      <th></th>\n",
       "      <th></th>\n",
       "      <th></th>\n",
       "    </tr>\n",
       "  </thead>\n",
       "  <tbody>\n",
       "    <tr>\n",
       "      <th>2017-02-27</th>\n",
       "      <td>49.672001</td>\n",
       "      <td>48.402000</td>\n",
       "      <td>49.633999</td>\n",
       "      <td>49.245998</td>\n",
       "      <td>57304000.0</td>\n",
       "      <td>49.245998</td>\n",
       "    </tr>\n",
       "    <tr>\n",
       "      <th>2017-02-28</th>\n",
       "      <td>50.200001</td>\n",
       "      <td>48.779999</td>\n",
       "      <td>48.838001</td>\n",
       "      <td>49.998001</td>\n",
       "      <td>30390500.0</td>\n",
       "      <td>49.998001</td>\n",
       "    </tr>\n",
       "    <tr>\n",
       "      <th>2017-03-01</th>\n",
       "      <td>50.970001</td>\n",
       "      <td>49.821999</td>\n",
       "      <td>50.835999</td>\n",
       "      <td>50.004002</td>\n",
       "      <td>24047500.0</td>\n",
       "      <td>50.004002</td>\n",
       "    </tr>\n",
       "    <tr>\n",
       "      <th>2017-03-02</th>\n",
       "      <td>50.655998</td>\n",
       "      <td>49.653999</td>\n",
       "      <td>49.942001</td>\n",
       "      <td>50.096001</td>\n",
       "      <td>16759000.0</td>\n",
       "      <td>50.096001</td>\n",
       "    </tr>\n",
       "    <tr>\n",
       "      <th>2017-03-03</th>\n",
       "      <td>50.380001</td>\n",
       "      <td>49.799999</td>\n",
       "      <td>50.147999</td>\n",
       "      <td>50.313999</td>\n",
       "      <td>14597000.0</td>\n",
       "      <td>50.313999</td>\n",
       "    </tr>\n",
       "  </tbody>\n",
       "</table>\n",
       "</div>"
      ],
      "text/plain": [
       "                 High        Low       Open      Close      Volume  Adj Close\n",
       "Date                                                                         \n",
       "2017-02-27  49.672001  48.402000  49.633999  49.245998  57304000.0  49.245998\n",
       "2017-02-28  50.200001  48.779999  48.838001  49.998001  30390500.0  49.998001\n",
       "2017-03-01  50.970001  49.821999  50.835999  50.004002  24047500.0  50.004002\n",
       "2017-03-02  50.655998  49.653999  49.942001  50.096001  16759000.0  50.096001\n",
       "2017-03-03  50.380001  49.799999  50.147999  50.313999  14597000.0  50.313999"
      ]
     },
     "execution_count": 41,
     "metadata": {},
     "output_type": "execute_result"
    }
   ],
   "source": [
    "df_tesla.head()"
   ]
  },
  {
   "cell_type": "code",
   "execution_count": 42,
   "id": "ed213119",
   "metadata": {},
   "outputs": [],
   "source": [
    "from datetime import datetime"
   ]
  },
  {
   "cell_type": "code",
   "execution_count": 43,
   "id": "3a8bd173",
   "metadata": {},
   "outputs": [
    {
     "data": {
      "text/plain": [
       "datetime.datetime(2022, 2, 26, 18, 10, 26, 915232)"
      ]
     },
     "execution_count": 43,
     "metadata": {},
     "output_type": "execute_result"
    }
   ],
   "source": [
    "datetime.now()"
   ]
  },
  {
   "cell_type": "code",
   "execution_count": 48,
   "id": "22b7e190",
   "metadata": {},
   "outputs": [],
   "source": [
    "date = datetime(2022,2,26)"
   ]
  },
  {
   "cell_type": "code",
   "execution_count": 50,
   "id": "e2cbab16",
   "metadata": {},
   "outputs": [
    {
     "data": {
      "text/plain": [
       "datetime.date(2022, 2, 26)"
      ]
     },
     "execution_count": 50,
     "metadata": {},
     "output_type": "execute_result"
    }
   ],
   "source": [
    "date.date()"
   ]
  },
  {
   "cell_type": "code",
   "execution_count": 51,
   "id": "a67afe96",
   "metadata": {},
   "outputs": [
    {
     "data": {
      "text/plain": [
       "26"
      ]
     },
     "execution_count": 51,
     "metadata": {},
     "output_type": "execute_result"
    }
   ],
   "source": [
    "date.day"
   ]
  },
  {
   "cell_type": "code",
   "execution_count": null,
   "id": "1a6dad12",
   "metadata": {},
   "outputs": [],
   "source": [
    "date.weekday"
   ]
  }
 ],
 "metadata": {
  "kernelspec": {
   "display_name": "Python 3 (ipykernel)",
   "language": "python",
   "name": "python3"
  },
  "language_info": {
   "codemirror_mode": {
    "name": "ipython",
    "version": 3
   },
   "file_extension": ".py",
   "mimetype": "text/x-python",
   "name": "python",
   "nbconvert_exporter": "python",
   "pygments_lexer": "ipython3",
   "version": "3.9.7"
  }
 },
 "nbformat": 4,
 "nbformat_minor": 5
}
